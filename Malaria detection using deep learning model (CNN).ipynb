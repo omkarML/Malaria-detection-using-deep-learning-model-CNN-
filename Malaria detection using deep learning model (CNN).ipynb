{
 "cells": [
  {
   "cell_type": "code",
   "execution_count": 17,
   "metadata": {},
   "outputs": [],
   "source": [
    "import numpy as np\n",
    "from keras.models import Sequential\n",
    "from keras.layers import Convolution2D, Dense ,Flatten , MaxPooling2D\n",
    "from keras.preprocessing import image\n",
    "from keras.preprocessing.image import ImageDataGenerator\n",
    "import warnings\n",
    "warnings.filterwarnings('ignore')"
   ]
  },
  {
   "cell_type": "code",
   "execution_count": 18,
   "metadata": {},
   "outputs": [],
   "source": [
    "classifier = Sequential()"
   ]
  },
  {
   "cell_type": "code",
   "execution_count": 19,
   "metadata": {},
   "outputs": [],
   "source": [
    "#CONVOLUTION\n",
    "classifier.add(Convolution2D(32,3,3, input_shape = (64,64,3),activation = 'relu'))\n",
    "\n",
    "#POOLING\n",
    "classifier.add(MaxPooling2D(pool_size =(2,2)))\n",
    "\n",
    "#2nd Layer\n",
    "classifier.add(Convolution2D(32,3,3,activation = 'relu'))\n",
    "classifier.add(MaxPooling2D(pool_size =(2,2)))\n",
    "\n",
    "classifier.add(Flatten())\n",
    "\n",
    "#Full connection\n",
    "classifier.add(Dense(output_dim =128,activation = 'relu'))\n",
    "classifier.add(Dense(output_dim =1,activation = 'sigmoid'))\n",
    "\n"
   ]
  },
  {
   "cell_type": "code",
   "execution_count": 20,
   "metadata": {},
   "outputs": [],
   "source": [
    "#compile the CNN\n",
    "classifier.compile(optimizer = 'adam' , loss = 'binary_crossentropy' , metrics = ['accuracy'])"
   ]
  },
  {
   "cell_type": "code",
   "execution_count": 25,
   "metadata": {},
   "outputs": [],
   "source": [
    "train_datagen = ImageDataGenerator(rescale = 1./255,\n",
    "                                  shear_range = 0.2,\n",
    "                                  zoom_range = 0.2,\n",
    "                                  horizontal_flip = True)\n",
    "test_datagen = ImageDataGenerator(rescale = 1./255)"
   ]
  },
  {
   "cell_type": "code",
   "execution_count": 32,
   "metadata": {},
   "outputs": [
    {
     "name": "stdout",
     "output_type": "stream",
     "text": [
      "Found 22046 images belonging to 2 classes.\n"
     ]
    }
   ],
   "source": [
    "training_set = train_datagen.flow_from_directory(r'C:\\Users\\HP\\Desktop\\DS\\udemy\\DL and ML Practical Tutorials - Package\\New folder\\cell_images\\train',\n",
    "                                               target_size = (64,64),\n",
    "                                               batch_size = 32,\n",
    "                                               class_mode = 'binary')"
   ]
  },
  {
   "cell_type": "code",
   "execution_count": 33,
   "metadata": {},
   "outputs": [
    {
     "name": "stdout",
     "output_type": "stream",
     "text": [
      "Found 5512 images belonging to 2 classes.\n"
     ]
    }
   ],
   "source": [
    "testing_set = test_datagen.flow_from_directory(r'C:\\Users\\HP\\Desktop\\DS\\udemy\\DL and ML Practical Tutorials - Package\\New folder\\cell_images\\valid',\n",
    "                                               target_size = (64,64),\n",
    "                                               batch_size = 32,\n",
    "                                               class_mode = 'binary')"
   ]
  },
  {
   "cell_type": "code",
   "execution_count": 34,
   "metadata": {},
   "outputs": [
    {
     "name": "stdout",
     "output_type": "stream",
     "text": [
      "Epoch 1/25\n",
      "250/250 [==============================] - 522s 2s/step - loss: 0.6928 - accuracy: 0.5364 - val_loss: 0.6624 - val_accuracy: 0.5741\n",
      "Epoch 2/25\n",
      "250/250 [==============================] - 444s 2s/step - loss: 0.6682 - accuracy: 0.5939 - val_loss: 0.6486 - val_accuracy: 0.6156\n",
      "Epoch 3/25\n",
      "250/250 [==============================] - 262s 1s/step - loss: 0.6554 - accuracy: 0.6121 - val_loss: 0.6524 - val_accuracy: 0.6517\n",
      "Epoch 4/25\n",
      "250/250 [==============================] - 200s 802ms/step - loss: 0.6117 - accuracy: 0.6687 - val_loss: 0.5240 - val_accuracy: 0.7621\n",
      "Epoch 5/25\n",
      "250/250 [==============================] - 191s 762ms/step - loss: 0.5345 - accuracy: 0.7369 - val_loss: 0.3618 - val_accuracy: 0.7767\n",
      "Epoch 6/25\n",
      "250/250 [==============================] - 205s 820ms/step - loss: 0.4039 - accuracy: 0.8211 - val_loss: 0.2850 - val_accuracy: 0.8830\n",
      "Epoch 7/25\n",
      "250/250 [==============================] - 190s 761ms/step - loss: 0.2881 - accuracy: 0.8861 - val_loss: 0.1509 - val_accuracy: 0.8976\n",
      "Epoch 8/25\n",
      "250/250 [==============================] - 184s 737ms/step - loss: 0.2400 - accuracy: 0.9097 - val_loss: 0.4474 - val_accuracy: 0.9136\n",
      "Epoch 9/25\n",
      "250/250 [==============================] - 188s 753ms/step - loss: 0.2227 - accuracy: 0.9172 - val_loss: 0.3109 - val_accuracy: 0.9382\n",
      "Epoch 10/25\n",
      "250/250 [==============================] - 182s 729ms/step - loss: 0.2068 - accuracy: 0.9236 - val_loss: 0.1455 - val_accuracy: 0.9451\n",
      "Epoch 11/25\n",
      "250/250 [==============================] - 190s 759ms/step - loss: 0.2039 - accuracy: 0.9246 - val_loss: 0.3897 - val_accuracy: 0.9449\n",
      "Epoch 12/25\n",
      "250/250 [==============================] - 185s 741ms/step - loss: 0.2030 - accuracy: 0.9241 - val_loss: 0.1022 - val_accuracy: 0.9416\n",
      "Epoch 13/25\n",
      "250/250 [==============================] - 189s 755ms/step - loss: 0.1898 - accuracy: 0.9299 - val_loss: 0.2833 - val_accuracy: 0.9423\n",
      "Epoch 14/25\n",
      "250/250 [==============================] - 186s 742ms/step - loss: 0.1780 - accuracy: 0.9362 - val_loss: 0.0914 - val_accuracy: 0.9481\n",
      "Epoch 15/25\n",
      "250/250 [==============================] - 195s 782ms/step - loss: 0.1843 - accuracy: 0.9306 - val_loss: 0.1059 - val_accuracy: 0.9302\n",
      "Epoch 16/25\n",
      "250/250 [==============================] - 186s 744ms/step - loss: 0.1738 - accuracy: 0.9395 - val_loss: 0.0937 - val_accuracy: 0.9471\n",
      "Epoch 17/25\n",
      "250/250 [==============================] - 193s 774ms/step - loss: 0.1837 - accuracy: 0.9315 - val_loss: 0.0766 - val_accuracy: 0.9466\n",
      "Epoch 18/25\n",
      "250/250 [==============================] - 190s 760ms/step - loss: 0.1871 - accuracy: 0.9340 - val_loss: 0.0950 - val_accuracy: 0.9465\n",
      "Epoch 19/25\n",
      "250/250 [==============================] - 192s 769ms/step - loss: 0.1774 - accuracy: 0.9369 - val_loss: 0.1717 - val_accuracy: 0.9492\n",
      "Epoch 20/25\n",
      "250/250 [==============================] - 232s 929ms/step - loss: 0.1751 - accuracy: 0.9375 - val_loss: 0.1461 - val_accuracy: 0.9468\n",
      "Epoch 21/25\n",
      "250/250 [==============================] - 250s 998ms/step - loss: 0.1539 - accuracy: 0.9432 - val_loss: 0.0542 - val_accuracy: 0.9512\n",
      "Epoch 22/25\n",
      "250/250 [==============================] - 356s 1s/step - loss: 0.1737 - accuracy: 0.9369 - val_loss: 0.1216 - val_accuracy: 0.9515\n",
      "Epoch 23/25\n",
      "250/250 [==============================] - 277s 1s/step - loss: 0.1640 - accuracy: 0.9408 - val_loss: 0.0232 - val_accuracy: 0.9518\n",
      "Epoch 24/25\n",
      "250/250 [==============================] - 359s 1s/step - loss: 0.1604 - accuracy: 0.9414 - val_loss: 0.2180 - val_accuracy: 0.9410\n",
      "Epoch 25/25\n",
      "250/250 [==============================] - 217s 868ms/step - loss: 0.1689 - accuracy: 0.9402 - val_loss: 0.5127 - val_accuracy: 0.9515\n"
     ]
    },
    {
     "data": {
      "text/plain": [
       "<keras.callbacks.callbacks.History at 0x1e99021ecc8>"
      ]
     },
     "execution_count": 34,
     "metadata": {},
     "output_type": "execute_result"
    }
   ],
   "source": [
    "classifier.fit_generator(training_set,\n",
    "                        samples_per_epoch = 8000,\n",
    "                        nb_epoch = 25,\n",
    "                        validation_data = testing_set,\n",
    "                        nb_val_samples = 2000)"
   ]
  },
  {
   "cell_type": "code",
   "execution_count": 37,
   "metadata": {},
   "outputs": [],
   "source": [
    "import matplotlib.pyplot as plt"
   ]
  },
  {
   "cell_type": "code",
   "execution_count": 51,
   "metadata": {},
   "outputs": [
    {
     "name": "stdout",
     "output_type": "stream",
     "text": [
      "Infected\n"
     ]
    },
    {
     "data": {
      "text/plain": [
       "<matplotlib.image.AxesImage at 0x1e993a94b08>"
      ]
     },
     "execution_count": 51,
     "metadata": {},
     "output_type": "execute_result"
    },
    {
     "data": {
      "image/png": "[encoded data removed]",
      "text/plain": [
       "<Figure size 432x288 with 1 Axes>"
      ]
     },
     "metadata": {
      "needs_background": "light"
     },
     "output_type": "display_data"
    }
   ],
   "source": [
    "\n",
    "test_images1 = image.load_img(r'C:\\Users\\HP\\Desktop\\DS\\udemy\\DL and ML Practical Tutorials - Package\\New folder\\cell_images\\random2.png',target_size =(64,64))\n",
    "test_images = image.img_to_array(test_images1)\n",
    "test_images = np.expand_dims(test_images , axis = 0)\n",
    "result = classifier.predict(test_images)\n",
    "training_set.class_indices\n",
    "\n",
    "if result[0][0]>=0.5:\n",
    "    prediction ='Not infected'\n",
    "else:\n",
    "    prediction='Infected'\n",
    "    \n",
    "print(prediction)\n",
    "plt.imshow(test_images1)"
   ]
  },
  {
   "cell_type": "code",
   "execution_count": 52,
   "metadata": {},
   "outputs": [
    {
     "name": "stdout",
     "output_type": "stream",
     "text": [
      "Not infected\n"
     ]
    },
    {
     "data": {
      "text/plain": [
       "<matplotlib.image.AxesImage at 0x1e993b02548>"
      ]
     },
     "execution_count": 52,
     "metadata": {},
     "output_type": "execute_result"
    },
    {
     "data": {
      "image/png": "[encoded data removed]",
      "text/plain": [
       "<Figure size 432x288 with 1 Axes>"
      ]
     },
     "metadata": {
      "needs_background": "light"
     },
     "output_type": "display_data"
    }
   ],
   "source": [
    "\n",
    "test_images1 = image.load_img(r'C:\\Users\\HP\\Desktop\\DS\\udemy\\DL and ML Practical Tutorials - Package\\New folder\\cell_images\\random3.png',target_size =(64,64))\n",
    "test_images = image.img_to_array(test_images1)\n",
    "test_images = np.expand_dims(test_images , axis = 0)\n",
    "result = classifier.predict(test_images)\n",
    "training_set.class_indices\n",
    "\n",
    "if result[0][0]>=0.5:\n",
    "    prediction ='Not infected'\n",
    "else:\n",
    "    prediction='Infected'\n",
    "    \n",
    "print(prediction)\n",
    "plt.imshow(test_images1)"
   ]
  },
  {
   "cell_type": "code",
   "execution_count": null,
   "metadata": {},
   "outputs": [],
   "source": []
  }
 ],
 "metadata": {
  "kernelspec": {
   "display_name": "Python 3",
   "language": "python",
   "name": "python3"
  },
  "language_info": {
   "codemirror_mode": {
    "name": "ipython",
    "version": 3
   },
   "file_extension": ".py",
   "mimetype": "text/x-python",
   "name": "python",
   "nbconvert_exporter": "python",
   "pygments_lexer": "ipython3",
   "version": "3.7.7"
  }
 },
 "nbformat": 4,
 "nbformat_minor": 4
}
